{
 "cells": [
  {
   "cell_type": "markdown",
   "id": "5d004533-1c63-4748-8d48-8f6cf73d283a",
   "metadata": {
    "tags": []
   },
   "source": [
    "# H1: Data Science Tools and Ecosystem"
   ]
  },
  {
   "cell_type": "markdown",
   "id": "50095979-1787-4c26-8ff4-3d2718894cd8",
   "metadata": {},
   "source": [
    "# In this notebook Data Science tools and ecosystem are summarized"
   ]
  },
  {
   "cell_type": "markdown",
   "id": "c7333979-f1bc-4b22-9870-7f6a42691b64",
   "metadata": {},
   "source": [
    "# This objective of this notebook is to show the variety of tools, languages and abilities used by data scientists\n",
    "**Objectives:**\n",
    "* Python\n",
    "* R\n",
    "* Jupyter\n",
    "* GitHub"
   ]
  },
  {
   "cell_type": "markdown",
   "id": "1a61adfb-52b1-428e-87ed-d9617cd2d0f9",
   "metadata": {
    "tags": []
   },
   "source": [
    "# Some of the popular languages that Data Scientist use are:\n",
    "\n",
    "1. Python\n",
    "2. R\n",
    "3. SQL\n",
    "4. Java"
   ]
  },
  {
   "cell_type": "markdown",
   "id": "084dbe4f-f0c6-44ba-8092-566ea150452d",
   "metadata": {},
   "source": [
    "# Some of the commonly used libraries used by Data Scientists include:\n",
    "\n",
    "1. Panda\n",
    "2. NumPy\n",
    "3. SciPy\n",
    "4. Matplotlib"
   ]
  },
  {
   "cell_type": "markdown",
   "id": "ee4d74fa-f2f0-4111-a11a-af1f5ea3586d",
   "metadata": {},
   "source": [
    "# A table of Data Science Tools include:\n",
    "|Data Science Tools|\n",
    "|------------------|\n",
    "|R and R Studio|\n",
    "|Jupyter|\n",
    "|GitHub|\n",
    "|Anaconda|"
   ]
  },
  {
   "cell_type": "markdown",
   "id": "f88f48ec-c7a8-4649-81e0-4a54b99574b8",
   "metadata": {
    "tags": []
   },
   "source": [
    "### Below are a few examples of evaluating arithmetic expressions in Python\n",
    " \n",
    "1. 1+5\n",
    "2. 5-3\n",
    "3. 2*3\n",
    "4. 6/2"
   ]
  },
  {
   "cell_type": "code",
   "execution_count": 8,
   "id": "0b2ae7bd-8029-4f05-8c0c-02c9434dd527",
   "metadata": {
    "tags": []
   },
   "outputs": [
    {
     "data": {
      "text/plain": [
       "17"
      ]
     },
     "execution_count": 8,
     "metadata": {},
     "output_type": "execute_result"
    }
   ],
   "source": [
    "# This a simple arithmetic expression to mutiply then add integers.\n",
    "(3*4)+5"
   ]
  },
  {
   "cell_type": "code",
   "execution_count": 11,
   "id": "4f426006-9cb5-470a-af2e-9c73d4708c70",
   "metadata": {
    "tags": []
   },
   "outputs": [
    {
     "data": {
      "text/plain": [
       "3.3333333333333335"
      ]
     },
     "execution_count": 11,
     "metadata": {},
     "output_type": "execute_result"
    }
   ],
   "source": [
    "# This simple equation converts 200 minutes to hours\n",
    "200/60"
   ]
  },
  {
   "cell_type": "markdown",
   "id": "3ef3df38-607f-440d-97fc-8b04b36396ac",
   "metadata": {},
   "source": [
    "## Author\n",
    "Martin Collyer"
   ]
  }
 ],
 "metadata": {
  "kernelspec": {
   "display_name": "Python",
   "language": "python",
   "name": "conda-env-python-py"
  },
  "language_info": {
   "codemirror_mode": {
    "name": "ipython",
    "version": 3
   },
   "file_extension": ".py",
   "mimetype": "text/x-python",
   "name": "python",
   "nbconvert_exporter": "python",
   "pygments_lexer": "ipython3",
   "version": "3.7.12"
  }
 },
 "nbformat": 4,
 "nbformat_minor": 5
}
